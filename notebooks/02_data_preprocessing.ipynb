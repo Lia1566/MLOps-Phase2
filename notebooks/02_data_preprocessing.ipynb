{
 "cells": [
  {
   "cell_type": "markdown",
   "id": "da3f3832",
   "metadata": {},
   "source": [
    "# Data Preprocessing and Feature Engineering"
   ]
  },
  {
   "cell_type": "markdown",
   "id": "2b7526fa",
   "metadata": {},
   "source": [
    "The objective of this notebook is to clean and transform the student performance dataset for modeling. \n",
    "\n",
    "Contents:\n",
    "1. Load data and remove duplicates\n",
    "2. Create binary target variable\n",
    "3. Feature engineering\n",
    "4. Encode categorical features\n",
    "5. Scale numerical features\n",
    "6. Train/test split\n",
    "7. Save preprocessed datasets"
   ]
  },
  {
   "cell_type": "markdown",
   "id": "52d054d1",
   "metadata": {},
   "source": [
    "## Setup and Load Data"
   ]
  },
  {
   "cell_type": "code",
   "execution_count": 2,
   "id": "65849f4d",
   "metadata": {},
   "outputs": [
    {
     "name": "stdout",
     "output_type": "stream",
     "text": [
      "Project Root: /Users/lia/Desktop/Fase1\n",
      "Raw Data: /Users/lia/Desktop/Fase1/data/raw\n",
      "Processed Data: /Users/lia/Desktop/Fase1/data/processed\n",
      "Figures: /Users/lia/Desktop/Fase1/reports/figures\n"
     ]
    }
   ],
   "source": [
    "# Import Libraries\n",
    "import pandas as pd\n",
    "import numpy as np\n",
    "import matplotlib.pyplot as plt \n",
    "import seaborn as sns\n",
    "import warnings\n",
    "from pathlib import Path\n",
    "from datetime import datetime\n",
    "from sklearn.preprocessing import StandardScaler, LabelEncoder\n",
    "from sklearn.model_selection import train_test_split\n",
    "\n",
    "warnings.filterwarnings('ignore')\n",
    "\n",
    "# Set display options\n",
    "pd.set_option('display.max_columns', None)\n",
    "pd.set_option('display.max_rows', 100)\n",
    "\n",
    "# Define project paths\n",
    "ROOT = Path.cwd().parent if (Path.cwd().parent / 'data').exists() else Path.cwd()\n",
    "DATA_RAW = ROOT / \"data\" / \"raw\"\n",
    "DATA_PROC = ROOT / \"data\" / \"processed\"\n",
    "FIGS = ROOT / \"reports\" / \"figures\"\n",
    "\n",
    "# Create output directories\n",
    "for p in [DATA_PROC, FIGS]:\n",
    "    p.mkdir(parents=True, exist_ok=True)\n",
    "\n",
    "print(f\"Project Root: {ROOT}\")\n",
    "print(f\"Raw Data: {DATA_RAW}\")\n",
    "print(f\"Processed Data: {DATA_PROC}\")\n",
    "print(f\"Figures: {FIGS}\")"
   ]
  },
  {
   "cell_type": "code",
   "execution_count": 3,
   "id": "fcac6093",
   "metadata": {},
   "outputs": [
    {
     "name": "stdout",
     "output_type": "stream",
     "text": [
      "Dataset shape: (666, 12)\n",
      "\n",
      "First 5 rows:   Performance Gender    Caste coaching time Class_ten_education  \\\n",
      "0   Excellent   male  General       NO  ONE                SEBA   \n",
      "1   Excellent   male      OBC       WA  TWO                SEBA   \n",
      "2   Excellent   male      OBC       OA  TWO              OTHERS   \n",
      "3   Excellent   male  General       WA  ONE                SEBA   \n",
      "4   Excellent   male  General       OA  TWO                SEBA   \n",
      "\n",
      "  twelve_education   medium Class_X_Percentage Class_XII_Percentage  \\\n",
      "0            AHSEC  ENGLISH          Excellent            Excellent   \n",
      "1            AHSEC   OTHERS          Excellent            Excellent   \n",
      "2             CBSE  ENGLISH          Excellent            Excellent   \n",
      "3            AHSEC   OTHERS          Excellent            Excellent   \n",
      "4             CBSE  ENGLISH          Excellent            Excellent   \n",
      "\n",
      "  Father_occupation Mother_occupation  \n",
      "0            DOCTOR            OTHERS  \n",
      "1    SCHOOL_TEACHER        HOUSE_WIFE  \n",
      "2          BUSINESS        HOUSE_WIFE  \n",
      "3    SCHOOL_TEACHER    SCHOOL_TEACHER  \n",
      "4   COLLEGE_TEACHER        HOUSE_WIFE  \n",
      "\n",
      "Data types: Performance             object\n",
      "Gender                  object\n",
      "Caste                   object\n",
      "coaching                object\n",
      "time                    object\n",
      "Class_ten_education     object\n",
      "twelve_education        object\n",
      "medium                  object\n",
      "Class_X_Percentage      object\n",
      "Class_XII_Percentage    object\n",
      "Father_occupation       object\n",
      "Mother_occupation       object\n",
      "dtype: object\n"
     ]
    }
   ],
   "source": [
    "# Load the dataset from EDA notebook\n",
    "df = pd.read_csv(DATA_PROC / 'student_entry_performance_eda.csv')\n",
    "\n",
    "print(f'Dataset shape: {df.shape}')\n",
    "print(f'\\nFirst 5 rows: {df.head()}')\n",
    "print(f'\\nData types: {df.dtypes}')"
   ]
  },
  {
   "cell_type": "markdown",
   "id": "7b4fc270",
   "metadata": {},
   "source": [
    "## Remove Duplicates"
   ]
  },
  {
   "cell_type": "code",
   "execution_count": 4,
   "id": "65f50a30",
   "metadata": {},
   "outputs": [
    {
     "name": "stdout",
     "output_type": "stream",
     "text": [
      "\n",
      "Original dataset shape: (666, 12)\n",
      "Number of duplicate rows: 44\n",
      "After removing duplicates: (622, 12)\n",
      "Rows removed: 44\n",
      "Percentage removed: 6.61%\n",
      "\n",
      "Missing values check:\n",
      "0\n",
      "✓ No missing values\n"
     ]
    }
   ],
   "source": [
    "print(f\"\\nOriginal dataset shape: {df.shape}\")\n",
    "print(f\"Number of duplicate rows: {df.duplicated().sum()}\")\n",
    "\n",
    "# Remove duplicates\n",
    "df_clean = df.drop_duplicates()\n",
    "\n",
    "print(f\"After removing duplicates: {df_clean.shape}\")\n",
    "print(f\"Rows removed: {df.shape[0] - df_clean.shape[0]}\")\n",
    "print(f\"Percentage removed: {((df.shape[0] - df_clean.shape[0]) / df.shape[0] * 100):.2f}%\")\n",
    "\n",
    "# Verify no missing values\n",
    "print(f\"\\nMissing values check:\")\n",
    "print(df_clean.isnull().sum().sum())\n",
    "print(\"✓ No missing values\" if df_clean.isnull().sum().sum() == 0 else \"Missing values found\")"
   ]
  },
  {
   "cell_type": "markdown",
   "id": "b1c1d647",
   "metadata": {},
   "source": [
    "## Create Binary Target Variable"
   ]
  },
  {
   "cell_type": "code",
   "execution_count": 6,
   "id": "eadc5fe4",
   "metadata": {},
   "outputs": [
    {
     "name": "stdout",
     "output_type": "stream",
     "text": [
      "\n",
      "Original Performance Distribution:\n",
      "Performance\n",
      "Good         194\n",
      "Vg           178\n",
      "Average      152\n",
      "Excellent     98\n",
      "Name: count, dtype: int64\n",
      "\n",
      "Percentages:\n",
      "Performance\n",
      "Good         31.19\n",
      "Vg           28.62\n",
      "Average      24.44\n",
      "Excellent    15.76\n",
      "Name: proportion, dtype: float64\n",
      "\n",
      "================================================================================\n",
      "Binary Performance Distribution:\n",
      "================================================================================\n",
      "Performance_Binary\n",
      "0    346\n",
      "1    276\n",
      "Name: count, dtype: int64\n",
      "\n",
      "Class Balance:\n",
      "Performance_Binary\n",
      "0    55.63\n",
      "1    44.37\n",
      "Name: proportion, dtype: float64\n",
      "\n",
      "Class 0 (Lower Performance): 55.63%\n",
      "Class 1 (High Performance): 44.37%\n",
      "Balance Ratio: 1.25:1\n"
     ]
    }
   ],
   "source": [
    "# Original Performance distribution\n",
    "print(\"\\nOriginal Performance Distribution:\")\n",
    "print(df_clean['Performance'].value_counts())\n",
    "print(\"\\nPercentages:\")\n",
    "print(df_clean['Performance'].value_counts(normalize=True).mul(100).round(2))\n",
    "\n",
    "# Create bianry target varibale\n",
    "def create_binary_target(performance):\n",
    "    \"\"\"\n",
    "    Convert 4-class performance to binary\n",
    "    - Excellent, Vg  → 1 (High Performance)\n",
    "    - Good, Average → 0 (Lower Performance)\n",
    "    \"\"\"\n",
    "    if performance in ['Excellent', 'Vg']:\n",
    "        return 1 # High performance\n",
    "    else:\n",
    "        return 0 # Lower performance\n",
    "    \n",
    "df_clean['Performance_Binary'] = df_clean['Performance'].apply(create_binary_target)\n",
    "\n",
    "# Check binary distribution\n",
    "print(f\"\\n{'='*80}\")\n",
    "print(\"Binary Performance Distribution:\")\n",
    "print(f\"{'='*80}\")\n",
    "print(df_clean['Performance_Binary'].value_counts())\n",
    "print(\"\\nClass Balance:\")\n",
    "balance = df_clean['Performance_Binary'].value_counts(normalize=True).mul(100).round(2)\n",
    "print(balance)\n",
    "\n",
    "print(f\"\\nClass 0 (Lower Performance): {balance[0]}%\")\n",
    "print(f\"Class 1 (High Performance): {balance[1]}%\")\n",
    "print(f\"Balance Ratio: {balance[0]/balance[1]:.2f}:1\")"
   ]
  },
  {
   "cell_type": "code",
   "execution_count": 8,
   "id": "f8d3d2c2",
   "metadata": {},
   "outputs": [
    {
     "name": "stdout",
     "output_type": "stream",
     "text": [
      "\n",
      "Saved figure to: /Users/lia/Desktop/Fase1/reports/figures/binary_target_distribution_20251023_103537.png\n"
     ]
    },
    {
     "data": {
      "image/png": "[encoded data removed]",
      "text/plain": [
       "<Figure size 1400x500 with 2 Axes>"
      ]
     },
     "metadata": {},
     "output_type": "display_data"
    },
    {
     "name": "stdout",
     "output_type": "stream",
     "text": [
      "\n",
      "Cleaned dataset saved to: /Users/lia/Desktop/Fase1/data/processed/student_performance_cleaned.csv\n"
     ]
    }
   ],
   "source": [
    "# Visualize binary target distribution\n",
    "fig, axes = plt.subplots(1, 2, figsize=(14,5))\n",
    "\n",
    "# Original Performance\n",
    "df_clean['Performance'].value_counts().plot(kind='bar', ax=axes[0], color='skyblue', edgecolor='black')\n",
    "axes[0].set_title('Original Performance (4 Classes)', fontweight='bold', fontsize=12)\n",
    "axes[0].set_xlabel('Performance Level')\n",
    "axes[0].set_ylabel('Count')\n",
    "axes[0].tick_params(axis='x', rotation=45)\n",
    "\n",
    "# Binary Performance\n",
    "df_clean['Performance_Binary'].value_counts().sort_index().plot(kind='bar', ax=axes[1], \n",
    "                                                                 color=['lightcoral', 'lightgreen'], \n",
    "                                                                 edgecolor='black')\n",
    "axes[1].set_title('Binary Performance (2 Classes)', fontweight='bold', fontsize=12)\n",
    "axes[1].set_xlabel('Performance Level')\n",
    "axes[1].set_ylabel('Count')\n",
    "axes[1].set_xticklabels(['0: Lower\\n(Good + Average)', '1: High\\n(Excellent + Vg)'], rotation=0)\n",
    "\n",
    "plt.tight_layout()\n",
    "\n",
    "# Save figure\n",
    "ts = datetime.now().strftime(\"%Y%m%d_%H%M%S\")\n",
    "out_path = FIGS / f\"binary_target_distribution_{ts}.png\"\n",
    "fig.savefig(out_path, dpi=300, bbox_inches='tight')\n",
    "print(f\"\\nSaved figure to: {out_path}\")\n",
    "\n",
    "plt.show()\n",
    "\n",
    "# Save cleaned dataset with binary target\n",
    "output_path = DATA_PROC / \"student_performance_cleaned.csv\"\n",
    "df_clean.to_csv(output_path, index=False)\n",
    "print(f\"\\nCleaned dataset saved to: {output_path}\")\n"
   ]
  },
  {
   "cell_type": "markdown",
   "id": "0bcb6e7a",
   "metadata": {},
   "source": [
    "## Feature Engineering"
   ]
  },
  {
   "cell_type": "code",
   "execution_count": 10,
   "id": "16a46599",
   "metadata": {},
   "outputs": [
    {
     "name": "stdout",
     "output_type": "stream",
     "text": [
      "\n",
      "Original study time distribution:\n",
      "time\n",
      "TWO      339\n",
      "ONE      185\n",
      "THREE     85\n",
      "FOUR      11\n",
      "FIVE       1\n",
      "SEVEN      1\n",
      "Name: count, dtype: int64\n",
      "\n",
      "After grouping rare categories:\n",
      "time\n",
      "TWO          339\n",
      "ONE          185\n",
      "THREE         85\n",
      "FOUR_PLUS     13\n",
      "Name: count, dtype: int64\n",
      "✓ Rare categories combined successfully\n"
     ]
    }
   ],
   "source": [
    "# Create a copy for feature engineering\n",
    "df_processed = df_clean.copy()\n",
    "\n",
    "# Group rare study time categories\n",
    "print('\\nOriginal study time distribution:')\n",
    "print(df_processed['time'].value_counts())\n",
    "\n",
    "def group_study_time(time_val):\n",
    "    \"\"\"\n",
    "    Group rare study time categories: \n",
    "    - FOUR, FIVE, SEVEN → FOUR_PLUS\n",
    "    - ONE, TWO, THREE → Keep as is\n",
    "    \"\"\"\n",
    "    if time_val in ['FOUR', 'FIVE', 'SEVEN']:\n",
    "        return 'FOUR_PLUS'\n",
    "    else:\n",
    "        return time_val\n",
    "    \n",
    "df_processed['time'] = df_processed['time'].apply(group_study_time)\n",
    "\n",
    "print(\"\\nAfter grouping rare categories:\")\n",
    "print(df_processed['time'].value_counts())\n",
    "print(\"✓ Rare categories combined successfully\")"
   ]
  },
  {
   "cell_type": "markdown",
   "id": "a3710790",
   "metadata": {},
   "source": [
    "## Encode Categorical Features"
   ]
  },
  {
   "cell_type": "code",
   "execution_count": 11,
   "id": "338ea020",
   "metadata": {},
   "outputs": [
    {
     "name": "stdout",
     "output_type": "stream",
     "text": [
      "\n",
      "Ordinal Encoding Mappings:\n",
      "Grades: {'Average': 1, 'Good': 2, 'Vg': 3, 'Excellent': 4}\n",
      "Time: {'ONE': 1, 'TWO': 2, 'THREE': 3, 'FOUR_PLUS': 4}\n",
      "\n",
      "Ordinal encoding applied to:\n",
      "- Class_X_Percentage → Class_X_Grade_Encoded\n",
      "- Class_XII_Percentage → Class_XII_Grade_Encoded\n",
      "- time → Study_Time_Encoded\n",
      "\n",
      "Nominal columns for one-hot encoding: 8\n",
      "  - Gender: 2 unique values\n",
      "  - Caste: 4 unique values\n",
      "  - coaching: 3 unique values\n",
      "  - Class_ten_education: 3 unique values\n",
      "  - twelve_education: 3 unique values\n",
      "  - medium: 3 unique values\n",
      "  - Father_occupation: 8 unique values\n",
      "  - Mother_occupation: 9 unique values\n",
      "\n",
      "✓ One-hot encoding complete\n",
      "Dataset shape after encoding: (622, 35)\n",
      "\n",
      "Sample of encoded feature columns:\n",
      "   1. Gender_male\n",
      "   2. Caste_OBC\n",
      "   3. Caste_SC\n",
      "   4. Caste_ST\n",
      "   5. coaching_OA\n",
      "   6. coaching_WA\n",
      "   7. Class_ten_education_OTHERS\n",
      "   8. Class_ten_education_SEBA\n",
      "   9. twelve_education_CBSE\n",
      "  10. twelve_education_OTHERS\n",
      "  11. medium_ENGLISH\n",
      "  12. medium_OTHERS\n",
      "  13. Father_occupation_BUSINESS\n",
      "  14. Father_occupation_COLLEGE_TEACHER\n",
      "  15. Father_occupation_CULTIVATOR\n",
      "  ... and 12 more\n"
     ]
    }
   ],
   "source": [
    "# Define ordinal mappings\n",
    "grade_mapping = {'Average': 1, 'Good': 2, 'Vg': 3, 'Excellent': 4}\n",
    "time_mapping = {'ONE': 1, 'TWO': 2, 'THREE': 3, 'FOUR_PLUS': 4}\n",
    "\n",
    "print(\"\\nOrdinal Encoding Mappings:\")\n",
    "print(f\"Grades: {grade_mapping}\")\n",
    "print(f\"Time: {time_mapping}\")\n",
    "\n",
    "# Apply ordinal encoding\n",
    "df_processed['Class_X_Grade_Encoded'] = df_processed['Class_X_Percentage'].map(grade_mapping)\n",
    "df_processed['Class_XII_Grade_Encoded'] = df_processed['Class_XII_Percentage'].map(grade_mapping)\n",
    "df_processed['Study_Time_Encoded'] = df_processed['time'].map(time_mapping)\n",
    "\n",
    "print(\"\\nOrdinal encoding applied to:\")\n",
    "print(\"- Class_X_Percentage → Class_X_Grade_Encoded\")\n",
    "print(\"- Class_XII_Percentage → Class_XII_Grade_Encoded\")\n",
    "print(\"- time → Study_Time_Encoded\")\n",
    "\n",
    "# Define columns for one-hot encoding\n",
    "nominal_columns = ['Gender', 'Caste', 'coaching', 'Class_ten_education',\n",
    "                   'twelve_education', 'medium', 'Father_occupation', 'Mother_occupation']\n",
    "\n",
    "print(f\"\\nNominal columns for one-hot encoding: {len(nominal_columns)}\")\n",
    "for col in nominal_columns:\n",
    "    print(f\"  - {col}: {df_processed[col].nunique()} unique values\")\n",
    "\n",
    "# Apply one-hot encoding\n",
    "df_encoded = pd.get_dummies(df_processed, columns=nominal_columns, drop_first=True)\n",
    "\n",
    "print(f\"\\n✓ One-hot encoding complete\")\n",
    "print(f\"Dataset shape after encoding: {df_encoded.shape}\")\n",
    "\n",
    "# Show sample of encoded columns\n",
    "print(\"\\nSample of encoded feature columns:\")\n",
    "encoded_cols = [col for col in df_encoded.columns if any(x in col for x in nominal_columns)]\n",
    "for i, col in enumerate(encoded_cols[:15], 1):\n",
    "    print(f\"  {i:2d}. {col}\")\n",
    "if len(encoded_cols) > 15:\n",
    "    print(f\"  ... and {len(encoded_cols)-15} more\")"
   ]
  },
  {
   "cell_type": "markdown",
   "id": "b9c64456",
   "metadata": {},
   "source": [
    "## Select Featires and Prepare for Modeling"
   ]
  },
  {
   "cell_type": "code",
   "execution_count": 13,
   "id": "468595d1",
   "metadata": {},
   "outputs": [
    {
     "name": "stdout",
     "output_type": "stream",
     "text": [
      "\n",
      "Feature matrix shape: (622, 30)\n",
      "Target vector shape: (622,)\n",
      "Number of features: 30\n",
      "\n",
      "================================================================================\n",
      "ALL FEATURES BEING USED FOR MODELING:\n",
      "================================================================================\n",
      " 1. Class_X_Grade_Encoded\n",
      " 2. Class_XII_Grade_Encoded\n",
      " 3. Study_Time_Encoded\n",
      " 4. Gender_male\n",
      " 5. Caste_OBC\n",
      " 6. Caste_SC\n",
      " 7. Caste_ST\n",
      " 8. coaching_OA\n",
      " 9. coaching_WA\n",
      "10. Class_ten_education_OTHERS\n",
      "11. Class_ten_education_SEBA\n",
      "12. twelve_education_CBSE\n",
      "13. twelve_education_OTHERS\n",
      "14. medium_ENGLISH\n",
      "15. medium_OTHERS\n",
      "16. Father_occupation_BUSINESS\n",
      "17. Father_occupation_COLLEGE_TEACHER\n",
      "18. Father_occupation_CULTIVATOR\n",
      "19. Father_occupation_DOCTOR\n",
      "20. Father_occupation_ENGINEER\n",
      "21. Father_occupation_OTHERS\n",
      "22. Father_occupation_SCHOOL_TEACHER\n",
      "23. Mother_occupation_BUSINESS\n",
      "24. Mother_occupation_COLLEGE_TEACHER\n",
      "25. Mother_occupation_CULTIVATOR\n",
      "26. Mother_occupation_DOCTOR\n",
      "27. Mother_occupation_ENGINEER\n",
      "28. Mother_occupation_HOUSE_WIFE\n",
      "29. Mother_occupation_OTHERS\n",
      "30. Mother_occupation_SCHOOL_TEACHER\n"
     ]
    }
   ],
   "source": [
    "# Select features for modeling (exclude original categorical and target columns)\n",
    "feature_columns = [col for col in df_encoded.columns if col not in\n",
    "                   ['Performance', 'Performance_Binary', 'Class_X_Percentage', \n",
    "                    'Class_XII_Percentage', 'time']]\n",
    "\n",
    "X = df_encoded[feature_columns]\n",
    "y = df_encoded['Performance_Binary']\n",
    "\n",
    "print(f'\\nFeature matrix shape: {X.shape}')\n",
    "print(f'Target vector shape: {y.shape}')\n",
    "print(f'Number of features: {X.shape[1]}')\n",
    "\n",
    "# Display all feature names\n",
    "print(f\"\\n{'='*80}\")\n",
    "print(\"ALL FEATURES BEING USED FOR MODELING:\")\n",
    "print(f\"{'='*80}\")\n",
    "for i, col in enumerate(X.columns, 1):\n",
    "    print(f\"{i:2d}. {col}\")"
   ]
  },
  {
   "cell_type": "markdown",
   "id": "2c3e8ab7",
   "metadata": {},
   "source": [
    "## Scale Numerical Features"
   ]
  },
  {
   "cell_type": "code",
   "execution_count": 14,
   "id": "6092c3f0",
   "metadata": {},
   "outputs": [
    {
     "name": "stdout",
     "output_type": "stream",
     "text": [
      "\n",
      "Ordinal features to scale: 3\n",
      "  - Class_X_Grade_Encoded\n",
      "  - Class_XII_Grade_Encoded\n",
      "  - Study_Time_Encoded\n",
      "\n",
      "Binary features (already 0/1): 27\n",
      "  (Not scaling binary features - they're already normalized)\n"
     ]
    }
   ],
   "source": [
    "# Separate ordinal features for scaling\n",
    "ordinal_features = ['Class_X_Grade_Encoded', 'Class_XII_Grade_Encoded', 'Study_Time_Encoded']\n",
    "binary_features = [col for col in X.columns if col not in ordinal_features]\n",
    "\n",
    "print(f\"\\nOrdinal features to scale: {len(ordinal_features)}\")\n",
    "for feat in ordinal_features:\n",
    "    print(f\"  - {feat}\")\n",
    "\n",
    "print(f\"\\nBinary features (already 0/1): {len(binary_features)}\")\n",
    "print(\"  (Not scaling binary features - they're already normalized)\")"
   ]
  },
  {
   "cell_type": "code",
   "execution_count": 15,
   "id": "12890844",
   "metadata": {},
   "outputs": [
    {
     "name": "stdout",
     "output_type": "stream",
     "text": [
      "\n",
      "StandardScaler applied to ordinal features\n",
      "\n",
      "Scaling parameters:\n",
      "  Class_X_Grade_Encoded:\n",
      "    Mean: 3.648\n",
      "    Std:  0.694\n",
      "  Class_XII_Grade_Encoded:\n",
      "    Mean: 3.424\n",
      "    Std:  0.773\n",
      "  Study_Time_Encoded:\n",
      "    Mean: 1.881\n",
      "    Std:  0.710\n"
     ]
    }
   ],
   "source": [
    "# Initialize scaler\n",
    "scaler = StandardScaler()\n",
    "\n",
    "# Create copy for scaled data\n",
    "X_scaled = X.copy()\n",
    "\n",
    "# Scale only ordinal features\n",
    "X_scaled[ordinal_features] = scaler.fit_transform(X[ordinal_features])\n",
    "\n",
    "print('\\nStandardScaler applied to ordinal features')\n",
    "\n",
    "print(\"\\nScaling parameters:\")\n",
    "for i, feat in enumerate(ordinal_features):\n",
    "    print(f\"  {feat}:\")\n",
    "    print(f\"    Mean: {scaler.mean_[i]:.3f}\")\n",
    "    print(f\"    Std:  {scaler.scale_[i]:.3f}\")"
   ]
  },
  {
   "cell_type": "code",
   "execution_count": 16,
   "id": "86de83f7",
   "metadata": {},
   "outputs": [
    {
     "name": "stdout",
     "output_type": "stream",
     "text": [
      "\n",
      "================================================================================\n",
      "First 5 rows before and after scaling\n",
      "================================================================================\n",
      "\n",
      "Before scaling (ordinal features):\n",
      "   Class_X_Grade_Encoded  Class_XII_Grade_Encoded  Study_Time_Encoded\n",
      "0                      4                        4                   1\n",
      "1                      4                        4                   2\n",
      "2                      4                        4                   2\n",
      "3                      4                        4                   1\n",
      "4                      4                        4                   2\n",
      "\n",
      "After scaling (ordinal features):\n",
      "   Class_X_Grade_Encoded  Class_XII_Grade_Encoded  Study_Time_Encoded\n",
      "0               0.507068                 0.744297           -1.241587\n",
      "1               0.507068                 0.744297            0.167660\n",
      "2               0.507068                 0.744297            0.167660\n",
      "3               0.507068                 0.744297           -1.241587\n",
      "4               0.507068                 0.744297            0.167660\n"
     ]
    }
   ],
   "source": [
    "# Show before/after example\n",
    "print(f\"\\n{'='*80}\")\n",
    "print(\"First 5 rows before and after scaling\")\n",
    "print(f\"{'='*80}\")\n",
    "\n",
    "print(\"\\nBefore scaling (ordinal features):\")\n",
    "print(X[ordinal_features].head())\n",
    "\n",
    "print(\"\\nAfter scaling (ordinal features):\")\n",
    "print(X_scaled[ordinal_features].head())"
   ]
  },
  {
   "cell_type": "code",
   "execution_count": 17,
   "id": "508f0402",
   "metadata": {},
   "outputs": [
    {
     "name": "stdout",
     "output_type": "stream",
     "text": [
      "\n",
      "Saved scaling visualization to: /Users/lia/Desktop/Fase1/reports/figures/feature_scaling_effect_20251023_104734.png\n"
     ]
    },
    {
     "data": {
      "image/png": "[encoded data removed]",
      "text/plain": [
       "<Figure size 1800x500 with 3 Axes>"
      ]
     },
     "metadata": {},
     "output_type": "display_data"
    }
   ],
   "source": [
    "# Visualize scaling effect\n",
    "fig, axes = plt.subplots(1, 3, figsize=(18, 5))\n",
    "\n",
    "for i, feat in enumerate(ordinal_features):\n",
    "    # Before scaling\n",
    "    X[feat].hist(ax=axes[i], bins=10, alpha=0.5, label='Before Scaling', color='skyblue', edgecolor='black')\n",
    "    # After scaling\n",
    "    X_scaled[feat].hist(ax=axes[i], bins=10, alpha=0.5, label='After Scaling', color='lightcoral', edgecolor='black')\n",
    "    \n",
    "    axes[i].set_title(f'{feat}\\nScaling Effect', fontweight='bold')\n",
    "    axes[i].set_xlabel('Value')\n",
    "    axes[i].set_ylabel('Frequency')\n",
    "    axes[i].legend()\n",
    "    axes[i].grid(alpha=0.3)\n",
    "\n",
    "plt.tight_layout()\n",
    "\n",
    "# Save figure\n",
    "ts = datetime.now().strftime(\"%Y%m%d_%H%M%S\")\n",
    "out_path = FIGS / f\"feature_scaling_effect_{ts}.png\"\n",
    "fig.savefig(out_path, dpi=300, bbox_inches='tight')\n",
    "print(f\"\\nSaved scaling visualization to: {out_path}\")\n",
    "\n",
    "plt.show()\n"
   ]
  },
  {
   "cell_type": "markdown",
   "id": "bbd8db7b",
   "metadata": {},
   "source": [
    "## Train/Test Split"
   ]
  },
  {
   "cell_type": "code",
   "execution_count": 18,
   "id": "3d92410c",
   "metadata": {},
   "outputs": [
    {
     "name": "stdout",
     "output_type": "stream",
     "text": [
      "\n",
      "Split Configuration:\n",
      "Test size: 20%\n",
      "Random state: 42\n",
      "Stratified: Yes (maintains class balance)\n",
      "\n",
      "Training set size: 497 samples (79.9%)\n",
      "Test set size: 125 samples (20.1%)\n",
      "\n",
      "================================================================================\n",
      "CLASS DISTRIBUTION\n",
      "================================================================================\n",
      "\n",
      "Training set class distribution:\n",
      "Performance_Binary\n",
      "0    276\n",
      "1    221\n",
      "Name: count, dtype: int64\n",
      "Percentages:\n",
      "Performance_Binary\n",
      "0    55.53\n",
      "1    44.47\n",
      "Name: proportion, dtype: float64\n",
      "\n",
      "Test set class distribution:\n",
      "Performance_Binary\n",
      "0    70\n",
      "1    55\n",
      "Name: count, dtype: int64\n",
      "Percentages:\n",
      "Performance_Binary\n",
      "0    56.0\n",
      "1    44.0\n",
      "Name: proportion, dtype: float64\n"
     ]
    }
   ],
   "source": [
    "# Split data into train and test sets\n",
    "X_train, X_test, y_train, y_test = train_test_split(\n",
    "    X_scaled, y, \n",
    "    test_size=0.2, \n",
    "    random_state=42, \n",
    "    stratify=y\n",
    ")\n",
    "\n",
    "print(f\"\\nSplit Configuration:\")\n",
    "print(f\"Test size: 20%\")\n",
    "print(f\"Random state: 42\")\n",
    "print(f\"Stratified: Yes (maintains class balance)\")\n",
    "\n",
    "print(f\"\\nTraining set size: {X_train.shape[0]} samples ({X_train.shape[0]/len(X_scaled)*100:.1f}%)\")\n",
    "print(f\"Test set size: {X_test.shape[0]} samples ({X_test.shape[0]/len(X_scaled)*100:.1f}%)\")\n",
    "\n",
    "print(f\"\\n{'='*80}\")\n",
    "print(\"CLASS DISTRIBUTION\")\n",
    "print(f\"{'='*80}\")\n",
    "\n",
    "print(\"\\nTraining set class distribution:\")\n",
    "train_dist = y_train.value_counts().sort_index()\n",
    "print(train_dist)\n",
    "print(\"Percentages:\")\n",
    "print(y_train.value_counts(normalize=True).mul(100).round(2).sort_index())\n",
    "\n",
    "print(\"\\nTest set class distribution:\")\n",
    "test_dist = y_test.value_counts().sort_index()\n",
    "print(test_dist)\n",
    "print(\"Percentages:\")\n",
    "print(y_test.value_counts(normalize=True).mul(100).round(2).sort_index())"
   ]
  },
  {
   "cell_type": "code",
   "execution_count": 19,
   "id": "be0d8cea",
   "metadata": {},
   "outputs": [
    {
     "name": "stdout",
     "output_type": "stream",
     "text": [
      "\n",
      "Saved train/test split visualization to: /Users/lia/Desktop/Fase1/reports/figures/train_test_split_20251023_104838.png\n"
     ]
    },
    {
     "data": {
      "image/png": "[encoded data removed]",
      "text/plain": [
       "<Figure size 1400x500 with 2 Axes>"
      ]
     },
     "metadata": {},
     "output_type": "display_data"
    }
   ],
   "source": [
    "# Visualize train/test split\n",
    "fig, axes = plt.subplots(1, 2, figsize=(14, 5))\n",
    "\n",
    "# Training set\n",
    "y_train.value_counts().sort_index().plot(kind='bar', ax=axes[0], \n",
    "                                          color=['lightcoral', 'lightgreen'], \n",
    "                                          edgecolor='black')\n",
    "axes[0].set_title('Training Set Class Distribution', fontweight='bold', fontsize=12)\n",
    "axes[0].set_xlabel('Class')\n",
    "axes[0].set_ylabel('Count')\n",
    "axes[0].set_xticklabels(['0: Lower', '1: High'], rotation=0)\n",
    "for i, v in enumerate(train_dist):\n",
    "    axes[0].text(i, v + 5, str(v), ha='center', fontweight='bold')\n",
    "\n",
    "# Test set\n",
    "y_test.value_counts().sort_index().plot(kind='bar', ax=axes[1], \n",
    "                                         color=['lightcoral', 'lightgreen'], \n",
    "                                         edgecolor='black')\n",
    "axes[1].set_title('Test Set Class Distribution', fontweight='bold', fontsize=12)\n",
    "axes[1].set_xlabel('Class')\n",
    "axes[1].set_ylabel('Count')\n",
    "axes[1].set_xticklabels(['0: Lower', '1: High'], rotation=0)\n",
    "for i, v in enumerate(test_dist):\n",
    "    axes[1].text(i, v + 2, str(v), ha='center', fontweight='bold')\n",
    "\n",
    "plt.tight_layout()\n",
    "\n",
    "# Save figure\n",
    "ts = datetime.now().strftime(\"%Y%m%d_%H%M%S\")\n",
    "out_path = FIGS / f\"train_test_split_{ts}.png\"\n",
    "fig.savefig(out_path, dpi=300, bbox_inches='tight')\n",
    "print(f\"\\nSaved train/test split visualization to: {out_path}\")\n",
    "\n",
    "plt.show()"
   ]
  },
  {
   "cell_type": "markdown",
   "id": "40a7e6e8",
   "metadata": {},
   "source": [
    "## Save Preprocessed Datasets"
   ]
  },
  {
   "cell_type": "code",
   "execution_count": 20,
   "id": "503c72ea",
   "metadata": {},
   "outputs": [
    {
     "name": "stdout",
     "output_type": "stream",
     "text": [
      "\n",
      "Training data saved to: /Users/lia/Desktop/Fase1/data/processed/student_performance_train.csv\n",
      "Shape: (497, 31)\n",
      "\n",
      "Test data saved to: /Users/lia/Desktop/Fase1/data/processed/student_performance_test.csv\n",
      "Shape: (125, 31)\n",
      "\n",
      "Full preprocessed dataset saved to: /Users/lia/Desktop/Fase1/data/processed/student_performance_preprocessed.csv\n",
      "Shape: (622, 31)\n",
      "\n",
      "Feature names saved to: /Users/lia/Desktop/Fase1/data/processed/feature_names.txt\n"
     ]
    }
   ],
   "source": [
    "# Save train/test splits with all features\n",
    "train_data = pd.concat([X_train, y_train], axis=1)\n",
    "test_data = pd.concat([X_test, y_test], axis=1)\n",
    "\n",
    "train_path = DATA_PROC / \"student_performance_train.csv\"\n",
    "test_path = DATA_PROC / \"student_performance_test.csv\"\n",
    "\n",
    "train_data.to_csv(train_path, index=False)\n",
    "test_data.to_csv(test_path, index=False)\n",
    "\n",
    "print(f\"\\nTraining data saved to: {train_path}\")\n",
    "print(f\"Shape: {train_data.shape}\")\n",
    "\n",
    "print(f\"\\nTest data saved to: {test_path}\")\n",
    "print(f\"Shape: {test_data.shape}\")\n",
    "\n",
    "# Save complete preprocessed dataset\n",
    "df_preprocessed = pd.concat([X_scaled, y], axis=1)\n",
    "preprocessed_path = DATA_PROC / \"student_performance_preprocessed.csv\"\n",
    "df_preprocessed.to_csv(preprocessed_path, index=False)\n",
    "\n",
    "print(f\"\\nFull preprocessed dataset saved to: {preprocessed_path}\")\n",
    "print(f\"Shape: {df_preprocessed.shape}\")\n",
    "\n",
    "# Save feature names for later use\n",
    "feature_names_path = DATA_PROC / \"feature_names.txt\"\n",
    "with open(feature_names_path, 'w') as f:\n",
    "    f.write('\\n'.join(X.columns))\n",
    "\n",
    "print(f\"\\nFeature names saved to: {feature_names_path}\")\n"
   ]
  },
  {
   "cell_type": "markdown",
   "id": "1453f215",
   "metadata": {},
   "source": [
    "## Preprocessing Summary"
   ]
  },
  {
   "cell_type": "code",
   "execution_count": 21,
   "id": "cfc08885",
   "metadata": {},
   "outputs": [
    {
     "name": "stdout",
     "output_type": "stream",
     "text": [
      "\n",
      "================================================================================\n",
      "PREPROCESSING SUMMARY\n",
      "================================================================================\n",
      "\n",
      "DATASET TRANSFORMATION:\n",
      "Original shape: (666, 12)\n",
      "After removing duplicates: (622, 13)\n",
      "After encoding: (622, 35)\n",
      "Final features: 30\n",
      "\n",
      "TARGET VARIABLE:\n",
      "Original classes: 4 (Average, Good, Vg, Excellent)\n",
      "Binary classes: 2 (0: Lower, 1: High)\n",
      "Class 0: 346 samples (55.6%)\n",
      "Class 1: 276 samples (44.4%)\n",
      "\n",
      "FEATURE ENGINEERING:\n",
      "Grouped rare study time categories\n",
      "Ordinal encoding: 3 features\n",
      "One-hot encoding: 8 categorical variables\n",
      "StandardScaler: 3 ordinal features\n",
      "Total features: 30\n",
      "\n",
      "TRAIN/TEST SPLIT:\n",
      "Training: 497 samples (80%)\n",
      "Testing: 125 samples (20%)\n",
      "Stratified: Yes\n",
      "Random state: 42\n",
      "\n",
      "FILES SAVED:\n",
      "1. student_performance_train.csv (497 rows)\n",
      "2. student_performance_test.csv (125 rows)\n",
      "3. student_performance_preprocessed.csv (622 rows)\n",
      "4. feature_names.txt\n",
      "\n",
      "DATA QUALITY:\n",
      "• No missing values\n",
      "• No duplicates\n",
      "• All features scaled appropriately\n",
      "• Class balance maintained in splits\n",
      "\n",
      "FEATURE BREAKDOWN:\n",
      "• Ordinal features (scaled): 3\n",
      "• Binary features (0/1): 27\n",
      "• Total features: 30\n"
     ]
    }
   ],
   "source": [
    "print(f\"\\n{'='*80}\")\n",
    "print(\"PREPROCESSING SUMMARY\")\n",
    "print(f\"{'='*80}\")\n",
    "\n",
    "print(\"\\nDATASET TRANSFORMATION:\")\n",
    "print(f\"Original shape: {df.shape}\")\n",
    "print(f\"After removing duplicates: {df_clean.shape}\")\n",
    "print(f\"After encoding: {df_encoded.shape}\")\n",
    "print(f\"Final features: {X_scaled.shape[1]}\")\n",
    "\n",
    "print(\"\\nTARGET VARIABLE:\")\n",
    "print(f\"Original classes: 4 (Average, Good, Vg, Excellent)\")\n",
    "print(f\"Binary classes: 2 (0: Lower, 1: High)\")\n",
    "print(f\"Class 0: {y.value_counts()[0]} samples ({y.value_counts(normalize=True)[0]*100:.1f}%)\")\n",
    "print(f\"Class 1: {y.value_counts()[1]} samples ({y.value_counts(normalize=True)[1]*100:.1f}%)\")\n",
    "\n",
    "print(\"\\nFEATURE ENGINEERING:\")\n",
    "print(f\"Grouped rare study time categories\")\n",
    "print(f\"Ordinal encoding: 3 features\")\n",
    "print(f\"One-hot encoding: 8 categorical variables\")\n",
    "print(f\"StandardScaler: 3 ordinal features\")\n",
    "print(f\"Total features: {X_scaled.shape[1]}\")\n",
    "\n",
    "print(\"\\nTRAIN/TEST SPLIT:\")\n",
    "print(f\"Training: {X_train.shape[0]} samples (80%)\")\n",
    "print(f\"Testing: {X_test.shape[0]} samples (20%)\")\n",
    "print(f\"Stratified: Yes\")\n",
    "print(f\"Random state: 42\")\n",
    "\n",
    "print(\"\\nFILES SAVED:\")\n",
    "print(f\"1. {train_path.name} ({train_data.shape[0]} rows)\")\n",
    "print(f\"2. {test_path.name} ({test_data.shape[0]} rows)\")\n",
    "print(f\"3. {preprocessed_path.name} ({df_preprocessed.shape[0]} rows)\")\n",
    "print(f\"4. {feature_names_path.name}\")\n",
    "\n",
    "print(\"\\nDATA QUALITY:\")\n",
    "print(f\"• No missing values\")\n",
    "print(f\"• No duplicates\")\n",
    "print(f\"• All features scaled appropriately\")\n",
    "print(f\"• Class balance maintained in splits\")\n",
    "\n",
    "print(\"\\nFEATURE BREAKDOWN:\")\n",
    "ordinal_count = len(ordinal_features)\n",
    "binary_count = len(binary_features)\n",
    "print(f\"• Ordinal features (scaled): {ordinal_count}\")\n",
    "print(f\"• Binary features (0/1): {binary_count}\")\n",
    "print(f\"• Total features: {ordinal_count + binary_count}\")"
   ]
  },
  {
   "cell_type": "markdown",
   "id": "13f54992",
   "metadata": {},
   "source": [
    "## Data Verification"
   ]
  },
  {
   "cell_type": "code",
   "execution_count": 22,
   "id": "1326e8ea",
   "metadata": {},
   "outputs": [
    {
     "name": "stdout",
     "output_type": "stream",
     "text": [
      "\n",
      "Checking for data leakage...\n",
      "Overlapping indices between train and test: 0\n",
      "✓ No data leakage!\n",
      "\n",
      "Verifying feature consistency...\n",
      "Training features: 30\n",
      "Test features: 30\n",
      "✓ Features match!\n",
      "\n",
      "Checking for missing values...\n",
      "Training set missing values: 0\n",
      "Test set missing values: 0\n",
      "✓ No missing values!\n"
     ]
    }
   ],
   "source": [
    "# Verify no data leakage\n",
    "print(\"\\nChecking for data leakage...\")\n",
    "train_indices = set(X_train.index)\n",
    "test_indices = set(X_test.index)\n",
    "overlap = train_indices.intersection(test_indices)\n",
    "print(f\"Overlapping indices between train and test: {len(overlap)}\")\n",
    "print(\"✓ No data leakage!\" if len(overlap) == 0 else \"⚠ WARNING: Data leakage detected!\")\n",
    "\n",
    "# Verify feature consistency\n",
    "print(\"\\nVerifying feature consistency...\")\n",
    "print(f\"Training features: {X_train.shape[1]}\")\n",
    "print(f\"Test features: {X_test.shape[1]}\")\n",
    "print(\"✓ Features match!\" if X_train.shape[1] == X_test.shape[1] else \"⚠ Feature mismatch!\")\n",
    "\n",
    "# Check for any remaining missing values\n",
    "print(\"\\nChecking for missing values...\")\n",
    "train_missing = train_data.isnull().sum().sum()\n",
    "test_missing = test_data.isnull().sum().sum()\n",
    "print(f\"Training set missing values: {train_missing}\")\n",
    "print(f\"Test set missing values: {test_missing}\")\n",
    "print(\"✓ No missing values!\" if (train_missing == 0 and test_missing == 0) else \"⚠ Missing values found!\")"
   ]
  },
  {
   "cell_type": "code",
   "execution_count": null,
   "id": "45161124",
   "metadata": {},
   "outputs": [],
   "source": []
  }
 ],
 "metadata": {
  "kernelspec": {
   "display_name": "base",
   "language": "python",
   "name": "python3"
  },
  "language_info": {
   "codemirror_mode": {
    "name": "ipython",
    "version": 3
   },
   "file_extension": ".py",
   "mimetype": "text/x-python",
   "name": "python",
   "nbconvert_exporter": "python",
   "pygments_lexer": "ipython3",
   "version": "3.12.7"
  }
 },
 "nbformat": 4,
 "nbformat_minor": 5
}
